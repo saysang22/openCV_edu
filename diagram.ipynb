{
 "cells": [
  {
   "cell_type": "markdown",
   "metadata": {},
   "source": [
    "# 도형 그리기\n",
    "## 빈 스케치북 만들기"
   ]
  },
  {
   "cell_type": "code",
   "execution_count": 6,
   "metadata": {},
   "outputs": [],
   "source": [
    "import cv2\n",
    "import numpy as np\n",
    "\n",
    "# 세로 480 * 가로 640, 3 channel (RGB)에 해당하는 스케치북 만들기\n",
    "img = np.zeros((480, 640, 3), dtype = np.uint8)\n",
    "img[:] = (255, 255, 255) #전체 공간을 흰색으로 채우기\n",
    "# print(img)\n",
    "cv2.imshow('img', img)\n",
    "cv2.waitKey(0)\n",
    "cv2.destroyAllWindows()"
   ]
  },
  {
   "cell_type": "markdown",
   "metadata": {},
   "source": [
    "## 일부 영역 색칠"
   ]
  },
  {
   "cell_type": "code",
   "execution_count": 1,
   "metadata": {},
   "outputs": [],
   "source": [
    "import cv2\n",
    "import numpy as np\n",
    "\n",
    "# 세로 480 * 가로 640, 3 channel (RGB)에 해당하는 스케치북 만들기\n",
    "img = np.zeros((480, 640, 3), dtype = np.uint8)\n",
    "img[100:200, 200:300] = (255, 255, 255) # [세로영역, 가로영역]\n",
    "# print(img)\n",
    "cv2.imshow('img', img)\n",
    "cv2.waitKey(0)\n",
    "cv2.destroyAllWindows()"
   ]
  },
  {
   "cell_type": "markdown",
   "metadata": {},
   "source": []
  },
  {
   "cell_type": "markdown",
   "metadata": {},
   "source": [
    "## 직선\n",
    "직선의 종류(line type)\n",
    "1. cv2.LINE_4 : 상하좌우 4방향으로 연결된 선\n",
    "1. cv2.LINE_8 : 대각선을 포함한 8방향으로 연결된 선(기본값)\n",
    "1. cv2.LINE_AA : 부드러운 선(anti-aliasiong)"
   ]
  },
  {
   "cell_type": "code",
   "execution_count": 6,
   "metadata": {},
   "outputs": [],
   "source": [
    "import numpy as np\n",
    "\n",
    "img = np.zeros((480, 640, 3), dtype = np.uint8)\n",
    "\n",
    "COLOR = (0, 255, 255) #BGR : Yellow\n",
    "THICKNESS = 3 #두께\n",
    "\n",
    "cv2.line(img, (50, 100), (400, 50), COLOR, THICKNESS, cv2.LINE_8) # 그릴위치, 시작점, 끝점, 색깔, 두께, 선 종류\n",
    "cv2.line(img, (50, 200), (400, 150), COLOR, THICKNESS, cv2.LINE_4) # 그릴위치, 시작점, 끝점, 색깔, 두께, 선 종류\n",
    "cv2.line(img, (50, 300), (400, 250), COLOR, THICKNESS, cv2.LINE_AA) # 그릴위치, 시작점, 끝점, 색깔, 두께, 선 종류\n",
    "\n",
    "cv2.imshow('img', img)\n",
    "cv2.waitKey(0)\n",
    "cv2.destroyAllWindows()"
   ]
  },
  {
   "cell_type": "markdown",
   "metadata": {},
   "source": []
  }
 ],
 "metadata": {
  "kernelspec": {
   "display_name": "test_env",
   "language": "python",
   "name": "python3"
  },
  "language_info": {
   "codemirror_mode": {
    "name": "ipython",
    "version": 3
   },
   "file_extension": ".py",
   "mimetype": "text/x-python",
   "name": "python",
   "nbconvert_exporter": "python",
   "pygments_lexer": "ipython3",
   "version": "3.10.18"
  }
 },
 "nbformat": 4,
 "nbformat_minor": 2
}
