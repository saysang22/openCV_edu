{
 "cells": [
  {
   "cell_type": "markdown",
   "metadata": {},
   "source": [
    "# 이미지 자르기"
   ]
  },
  {
   "cell_type": "markdown",
   "metadata": {},
   "source": [
    "영역을 잘라서 새로운 윈도우(창에 표시)"
   ]
  },
  {
   "cell_type": "code",
   "execution_count": null,
   "metadata": {},
   "outputs": [],
   "source": [
    "import cv2\n",
    "img = cv2.imread('img.jpg')\n",
    "\n",
    "crop = img[100:200, 200:400] # 세로 기준 100:200까지, 가로 기준 300:400까지 자름\n",
    "\n",
    "cv2.imshow('img', img)\n",
    "cv2.imshow('crop', crop)\n",
    "cv2.waitKey(0)\n",
    "cv2.destroyAllWindows()"
   ]
  },
  {
   "cell_type": "markdown",
   "metadata": {},
   "source": []
  }
 ],
 "metadata": {
  "kernelspec": {
   "display_name": "test_env",
   "language": "python",
   "name": "python3"
  },
  "language_info": {
   "name": "python",
   "version": "3.10.18"
  }
 },
 "nbformat": 4,
 "nbformat_minor": 2
}
