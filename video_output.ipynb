{
 "cells": [
  {
   "cell_type": "markdown",
   "metadata": {},
   "source": [
    "# 2. 동영상 출력"
   ]
  },
  {
   "cell_type": "markdown",
   "metadata": {},
   "source": [
    "## 동영상 파일 출력"
   ]
  },
  {
   "cell_type": "code",
   "execution_count": null,
   "metadata": {},
   "outputs": [
    {
     "name": "stdout",
     "output_type": "stream",
     "text": [
      "사용자 입력에 의해 종료합니다\n"
     ]
    }
   ],
   "source": [
    "import cv2\n",
    "cap = cv2.VideoCapture('video.mp4')\n",
    "\n",
    "# 원본 영상의 너비, 높이 얻기\n",
    "width = int(cap.get(cv2.CAP_PROP_FRAME_WIDTH))\n",
    "height = int(cap.get(cv2.CAP_PROP_FRAME_HEIGHT))\n",
    "\n",
    "# 비율 유지하면서 크기 설정(예: 50% 축소)\n",
    "scale = 0.2\n",
    "resized_w = int(width * scale)\n",
    "resized_h = int(height * scale)\n",
    "while cap.isOpened() : # 동영상 파일이 올바로 열렸는지?\n",
    "    ret, frame = cap.read() # ret: 성공여부, fram: 받아온 이미지(프레임)\n",
    "    resized_frame = cv2.resize(frame, (resized_w, resized_h))\n",
    "    if not ret :\n",
    "        print(\"더 이상 가져올 프레임이 없어요\")\n",
    "        break\n",
    "    cv2.imshow('video', resized_frame)\n",
    "    if cv2.waitKey(1) == ord(\"q\") :\n",
    "        print(\"사용자 입력에 의해 종료합니다\")\n",
    "        break\n",
    "cap.release() #자원 해제\n",
    "cv2.destroyAllWindows() # 모든 창 닫기"
   ]
  },
  {
   "cell_type": "markdown",
   "metadata": {},
   "source": [
    "## 카메라 출력"
   ]
  },
  {
   "cell_type": "code",
   "execution_count": 4,
   "metadata": {},
   "outputs": [],
   "source": [
    "import cv2\n",
    "cap = cv2.VideoCapture(0) # 0번째 카메라 장치(디바이스 ID)\n",
    "\n",
    "if not cap.isOpened(): # 카메라가 잘 열리지 않는 경우\n",
    "    exit() # 프로그램 종료\n",
    "\n",
    "while True :\n",
    "    ret, frame = cap.read()\n",
    "    if not ret :\n",
    "        break\n",
    "    cv2.imshow('camera', frame)\n",
    "    if cv2.waitKey(1) == ord('q'):\n",
    "        break\n",
    "cap.release()\n",
    "cv2.destroyAllWindows()"
   ]
  },
  {
   "cell_type": "code",
   "execution_count": null,
   "metadata": {},
   "outputs": [],
   "source": []
  }
 ],
 "metadata": {
  "kernelspec": {
   "display_name": "test_env",
   "language": "python",
   "name": "python3"
  },
  "language_info": {
   "codemirror_mode": {
    "name": "ipython",
    "version": 3
   },
   "file_extension": ".py",
   "mimetype": "text/x-python",
   "name": "python",
   "nbconvert_exporter": "python",
   "pygments_lexer": "ipython3",
   "version": "3.10.18"
  }
 },
 "nbformat": 4,
 "nbformat_minor": 2
}
